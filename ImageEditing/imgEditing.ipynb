{
 "cells": [
  {
   "cell_type": "code",
   "execution_count": null,
   "metadata": {},
   "outputs": [],
   "source": [
    "#installations for image editing\n",
    "!pip install opencv-python\n",
    "!pip install scikit-image"
   ]
  },
  {
   "cell_type": "code",
   "execution_count": null,
   "metadata": {},
   "outputs": [],
   "source": [
    "import matplotlib.pyplot as plt\n",
    "import cv2\n",
    "import numpy as np\n",
    "from skimage.morphology import binary_erosion, binary_opening, disk, square"
   ]
  },
  {
   "cell_type": "code",
   "execution_count": 9,
   "metadata": {},
   "outputs": [
    {
     "data": {
      "image/png": "[encoded data removed]",
      "text/plain": [
       "<Figure size 432x288 with 1 Axes>"
      ]
     },
     "metadata": {
      "needs_background": "light"
     },
     "output_type": "display_data"
    }
   ],
   "source": [
    "\n",
    "img = cv2.imread('finalMapedited.png', 2)\n",
    "plt.imshow(img,cmap='gray')\n",
    "ret, bw_img = cv2.threshold(img, 127, 255, cv2.THRESH_BINARY)\n",
    "# converting to its binary form\n",
    "bw = cv2.threshold(img, 127, 255, cv2.THRESH_BINARY)\n",
    "\n",
    "#change the image to binary\n",
    "#255 is where the black areas are. We want to keep that.\n",
    "cond = bw_img == 255\n",
    "cond2 = bw_img < 255\n",
    "bw_img[cond]=1\n",
    "bw_img[cond2]=0\n",
    "\n",
    "#create the kernel to perform erosion, number is how big we want the erosion to be\n",
    "kernel=square(12)\n",
    "#can use disk too if we want circular erosion. Depends on what is better\n",
    "\n",
    "#smooth the image\n",
    "bw_img = binary_opening(bw_img, kernel)\n",
    "\n",
    "#erode it to make the black areas bigger\n",
    "bw_img = binary_erosion(bw_img, kernel)\n",
    "\n",
    "plt.imshow(bw_img,cmap='gray')\n",
    "plt.show()\n",
    "\n",
    "new_img=np.zeros(bw_img.shape)\n",
    "for i in range(bw_img.shape[0]):\n",
    "    for j in range(bw_img.shape[1]):\n",
    "        if (bw_img[i][j]==False):\n",
    "            # 1 is obstacles\n",
    "            new_img[i][j]=1\n",
    "        else:\n",
    "            # 0 is open space\n",
    "            new_img[i][j]=0\n",
    "\n",
    "#  save image array to text file\n",
    "np.savetxt(\"mapArray.txt\", new_img, delimiter =\",\",fmt='%d')\n",
    "\n",
    "# CODE BELOW WAS TO CHECK THAT ARRAY WAS POPULATED CORRECTLY\n",
    "# load image array for use later\n",
    "# imgArr=[]\n",
    "# with open(\"array.txt\") as textFile:\n",
    "#     for line in textFile:\n",
    "#         lines=line.split(',')\n",
    "#         imgArr.append(lines)\n",
    "\n",
    "# imgArr=np.array(imgArr).astype(int)\n",
    "# plt.imshow(imgArr,cmap='gray')\n",
    "# plt.show()\n"
   ]
  },
  {
   "cell_type": "code",
   "execution_count": 12,
   "metadata": {},
   "outputs": [
    {
     "name": "stdout",
     "output_type": "stream",
     "text": [
      "(376, 301)\n"
     ]
    },
    {
     "data": {
      "text/plain": [
       "True"
      ]
     },
     "execution_count": 12,
     "metadata": {},
     "output_type": "execute_result"
    }
   ],
   "source": [
    "print(new_img.shape)\n",
    "# export edited file\n",
    "cv2.imwrite(\"newimg.png\", new_img*255)"
   ]
  },
  {
   "cell_type": "code",
   "execution_count": null,
   "metadata": {},
   "outputs": [],
   "source": []
  }
 ],
 "metadata": {
  "interpreter": {
   "hash": "ee429591ef08ec0fd6a23daf88bcd90a9c3e2546f6a0482c79d8c804d73576bb"
  },
  "kernelspec": {
   "display_name": "Python 3.10.2 64-bit",
   "language": "python",
   "name": "python3"
  },
  "language_info": {
   "codemirror_mode": {
    "name": "ipython",
    "version": 3
   },
   "file_extension": ".py",
   "mimetype": "text/x-python",
   "name": "python",
   "nbconvert_exporter": "python",
   "pygments_lexer": "ipython3",
   "version": "3.10.2"
  },
  "orig_nbformat": 4
 },
 "nbformat": 4,
 "nbformat_minor": 2
}
